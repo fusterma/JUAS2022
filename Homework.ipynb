{
 "cells": [
  {
   "cell_type": "markdown",
   "id": "9b116029",
   "metadata": {},
   "source": [
    "# HOMEWORK: DESIGN OF A FODO CELL FOR A ELECTRON CIRCULAR ACCELERATOR "
   ]
  },
  {
   "cell_type": "markdown",
   "id": "bd8d22a1",
   "metadata": {},
   "source": [
    "1. We want to design a circular accelerator for 4 GeV electrons composed by FODO cells according to the following conditions:\n",
    "\n",
    "    - We have only normal conducting magnets at our disposal with max. field strengths:\n",
    "        - For dipole magnets: Bmax ≤ 2 T and ld ≤ 5 m.\n",
    "        - For quadrupole magnets: dBy/dx|max ≤ 25 T/m & and lq≤1.5 m.\n",
    "\n",
    "    - Consider a FODO μ=90° and with the help of the thin lense approximation parametric plots from Tutorial 1 set the strength of quadrupoles such that the βmax is 120 m in both planes. (HINT: use both, Figure 1 and Figure 2, to define the lenght of the FODO cell and the strength for a fixed quadrupole lenght of your choice).\n",
    "\n",
    "    - Consider 4 dipoles per FODO cell.\n",
    "\n",
    "    - The circumference of the ring has to be 1000 m accounting for the FODO cells and about a ~30% margin for other insertions (pick a nice round number). (HINT: This information together with the length of the FODO cell allows you to fix the number of FODO cells that fits into your ring and hence the required angle of the bending magnets). \n",
    "    \n",
    "**USEFUL formulas**:\n",
    "    \n",
    "   - FODO stbility condition: $f>L_{cell}/4$.\n",
    "    \n",
    "    \n",
    "   - Normalized focusing strength: $k [m^{-2}]\\approx 0.3 G[T/m]/P[GeV/c]/q[e]$.\n",
    "    \n",
    "    \n",
    "   - Normalized bending strength: $1/\\rho[m] \\approx 0.3 B[T]/P[GeV/c]/q[e]$.\n",
    "\n",
    "Define a lattice according to the boundary conditions defined above, and find the optics using MAD-X.\n",
    "\n",
    "2. What is the $\\beta_{x,max}$ and $\\beta_{y,max}$ computed by MAD-X? What is happening on the horizontal plane? Why?\n",
    "\n",
    "\n",
    "4. Refine the design to set the $\\beta_{x,max}$ and $\\beta_{y,max}$ closer to 120 m using a MAD-X matching block? In this case as we are not matching  global parameter you need to use the \"CONSTRAINT\" command as follow:\n",
    "\n",
    "        MATCH, SEQUENCE=myCell;\n",
    "        CONSTRAINT, SEQUENCE=myCell, RANGE=q1, BETX=120.0;\n",
    "        VARY, NAME= myKF, STEP=0.00001;\n",
    "        VARY, NAME= myKD, STEP=0.00001;\n",
    "        LMDIF, CALLS=50, TOLERANCE=1e-6;//method adopted\n",
    "        ENDMATCH;\n",
    "        \n",
    "5. Considering a round beam (same horizontal and vertical sizes) and a normalized emittance value of 4.58 nm rad compute the corresponding beam size for $\\beta_{max}$=120 m.\n"
   ]
  }
 ],
 "metadata": {
  "kernelspec": {
   "display_name": "Python 3",
   "language": "python",
   "name": "python3"
  },
  "language_info": {
   "codemirror_mode": {
    "name": "ipython",
    "version": 3
   },
   "file_extension": ".py",
   "mimetype": "text/x-python",
   "name": "python",
   "nbconvert_exporter": "python",
   "pygments_lexer": "ipython3",
   "version": "3.8.8"
  }
 },
 "nbformat": 4,
 "nbformat_minor": 5
}
