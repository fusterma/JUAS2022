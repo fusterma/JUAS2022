{
 "cells": [
  {
   "cell_type": "markdown",
   "id": "9b116029",
   "metadata": {},
   "source": [
    "# HOMEWORK: DESIGN OF A FODO CELL FOR AN ELECTRON CIRCULAR ACCELERATOR "
   ]
  },
  {
   "cell_type": "markdown",
   "id": "bd8d22a1",
   "metadata": {},
   "source": [
    "1. We want to design a circular accelerator for electrons with a momentum of 4 GeV/c composed by FODO cells according to the following conditions:\n",
    "\n",
    "- Consider a FODO μ=90° and with the help of the thin lens approximation parametric plots from Tutorial 1 set the strength of quadrupoles such that the βmax is 120 m in both planes. (HINT: use both, Figure 1 and Figure 2, to define the lenght of the FODO cell (pick a round number) and the quadrupoles strength).\n",
    "\n",
    "\n",
    "- Check that the stability condition for the FODO is satisfied with the selected parameters.\n",
    "\n",
    "\n",
    "- Consider 4 dipoles per FODO cell.\n",
    "    \n",
    "    \n",
    "- The space of the ring available for the FODO cell is 70% of the total circunference. The total circunference is 1000 m. This information together with the length of the FODO cell allows you to fix the number of FODO cells that fits into your ring and hence the required angle of the bending magnets. \n",
    "   \n",
    "   \n",
    "- Check that the magnet strengths computed are okay with the condition that we have only normal conducting magnets at our disposal with the following characteristics:\n",
    "     - For dipole magnets: Bmax ≤ 2 T and $l_d$ = 5 m.\n",
    "     - For quadrupole magnets: dBy/dx|max ≤ 25 T/m & and $l_q$=1 m. \n",
    "     \n",
    "Define a lattice according to the boundary conditions defined above, and find the optics using MAD-X. Plot the beta-functions and the dispersion.     \n",
    "    \n",
    "**USEFUL formulas**:\n",
    "    \n",
    "   - FODO stbility condition: $f>L_{cell}/4$.\n",
    "    \n",
    "    \n",
    "   - Normalized focusing strength: $k [m^{-2}]\\approx 0.3 G[T/m]/P[GeV/c]/q[e]$.\n",
    "    \n",
    "    \n",
    "   - Normalized bending strength: $1/\\rho[m] \\approx 0.3 B[T]/P[GeV/c]/q[e]$.\n",
    "\n",
    "2. What is the $\\beta_{x,max}$ and $\\beta_{y,max}$ computed by MAD-X? What is happening on the horizontal plane? Why? Compute the relative variation of the beta-functions with and without the effect of the dipoles? \n",
    "\n",
    "\n",
    "3. If instead of 4 GeV/c electrons we want to store 25 GeV/c electrons would still your design satisfy the condition required for normal-conducting magnets? What will you need to change in the design to keep using normal conducting magnets? \n",
    "\n",
    "\n",
    "4. Match both, horizontal and vertical tunes to 0.25. You may need to set different strengths for each quadrupole. Why?\n",
    "           \n",
    "           \n",
    "5. Compute the horizontal and vertical beam sizes considering a normalized emittance value of 4.58 nm rad.\n"
   ]
  },
  {
   "cell_type": "code",
   "execution_count": null,
   "id": "eb0f767d",
   "metadata": {},
   "outputs": [],
   "source": []
  }
 ],
 "metadata": {
  "kernelspec": {
   "display_name": "Python 3",
   "language": "python",
   "name": "python3"
  },
  "language_info": {
   "codemirror_mode": {
    "name": "ipython",
    "version": 3
   },
   "file_extension": ".py",
   "mimetype": "text/x-python",
   "name": "python",
   "nbconvert_exporter": "python",
   "pygments_lexer": "ipython3",
   "version": "3.8.8"
  }
 },
 "nbformat": 4,
 "nbformat_minor": 5
}
