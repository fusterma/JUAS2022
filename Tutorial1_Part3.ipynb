{
 "cells": [
  {
   "cell_type": "markdown",
   "id": "3e51b259",
   "metadata": {},
   "source": [
    "# Preface\n",
    "The goal of these workshops is to do some exercices using the MAD-X models to help you to visualoze some transverse dynamics concepts.\n"
   ]
  },
  {
   "cell_type": "markdown",
   "id": "a3243818",
   "metadata": {},
   "source": [
    "# Tutorial 1: Part 1\n",
    "\n",
    "The goal of this first exercice is to get familiar with the pyhton interface."
   ]
  },
  {
   "cell_type": "code",
   "execution_count": null,
   "id": "a21fa4d5",
   "metadata": {},
   "outputs": [],
   "source": [
    "from matplotlib import pyplot as plt"
   ]
  },
  {
   "cell_type": "code",
   "execution_count": 2,
   "id": "018559dc",
   "metadata": {},
   "outputs": [],
   "source": [
    "from cpymad.madx import Madx \n",
    "myMad = Madx()"
   ]
  },
  {
   "cell_type": "code",
   "execution_count": 3,
   "id": "8010d3b5",
   "metadata": {},
   "outputs": [],
   "source": [
    "myString='''\n",
    "l_cell=100;\n",
    "quadrupoleLenght=5;\n",
    "f=200;\n",
    "myK:=1/f/quadrupoleLenght;// m^-2\n",
    "\n",
    "! *************  Definition of magnet  **************\n",
    "\n",
    "QF: quadrupole, L=quadrupoleLenght, K1:=myK;\n",
    "QD: quadrupole, L=quadrupoleLenght, K1:=-myK;\n",
    "\n",
    "! ************** Definition of sequence *************\n",
    "\n",
    "myCell:sequence, refer=entry, L=L_CELL;\n",
    "quadrupole1: QF, at=0;\n",
    "marker1: marker, at=25;\n",
    "quadrupole2: QD, at=50;\n",
    "endsequence;\n",
    "\n",
    "! ********************* Definition of beam **********\n",
    "\n",
    "beam, particle=proton, energy=2;\n",
    "\n",
    "! ***************** Use of the sequence *************\n",
    "\n",
    "use, sequence=myCell;\n",
    "\n",
    "title, 'My first twiss';\n",
    "twiss, file=./secondpart/firstTwiss.txt;\n",
    "\n",
    "'''"
   ]
  },
  {
   "cell_type": "code",
   "execution_count": 4,
   "id": "fc6b2dc6",
   "metadata": {},
   "outputs": [],
   "source": [
    "myMad.input(myString);"
   ]
  },
  {
   "cell_type": "code",
   "execution_count": 6,
   "id": "8a0a8655",
   "metadata": {},
   "outputs": [
    {
     "data": {
      "text/plain": [
       "['summ', 'twiss']"
      ]
     },
     "execution_count": 6,
     "metadata": {},
     "output_type": "execute_result"
    }
   ],
   "source": [
    "list(myMad.table)"
   ]
  },
  {
   "cell_type": "code",
   "execution_count": 9,
   "id": "2fc9e130",
   "metadata": {},
   "outputs": [
    {
     "data": {
      "text/plain": [
       "array([463.62328831, 463.62328831, 419.39486679, 419.39486679,\n",
       "       369.77916163, 369.77916163, 463.62328831, 463.62328831])"
      ]
     },
     "execution_count": 9,
     "metadata": {},
     "output_type": "execute_result"
    }
   ],
   "source": [
    "myMad.table.twiss.betx"
   ]
  },
  {
   "cell_type": "code",
   "execution_count": null,
   "id": "41ac32c5",
   "metadata": {},
   "outputs": [],
   "source": []
  }
 ],
 "metadata": {
  "kernelspec": {
   "display_name": "Python 3 (ipykernel)",
   "language": "python",
   "name": "python3"
  },
  "language_info": {
   "codemirror_mode": {
    "name": "ipython",
    "version": 3
   },
   "file_extension": ".py",
   "mimetype": "text/x-python",
   "name": "python",
   "nbconvert_exporter": "python",
   "pygments_lexer": "ipython3",
   "version": "3.8.12"
  }
 },
 "nbformat": 4,
 "nbformat_minor": 5
}
