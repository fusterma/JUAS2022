{
 "cells": [
  {
   "cell_type": "markdown",
   "id": "a3243818",
   "metadata": {},
   "source": [
    "# Tutorial 1: Part 2\n",
    "\n",
    "Objectives:\n",
    "- Learn how to define a simple lattice and compute the TWISS functions using MAD-X.\n",
    "- Thick vs thin lense approximation TWISS comparison for a lattice with only quadrupoles.\n",
    "- Tune and $\\beta$-function dependence on K1.\n",
    "\n",
    "**My first accelerator: a FODO cell**\n",
    "\n",
    "1. Make a simple lattice cell with $L_{cell}$= 100 m made of focusing and defocusing qudrupoles (so called FODO cell). Each quad is 5 m long ($L_{quad}$). Put the start of the first qudrupole at the start of the sequence. Each quadrupole has a focal length f=200 m (k1 x $L_{quad}$ = 1/f in thin lense approximation).\n",
    "\n",
    "\n",
    "2. Define a proton beam at $E_{tot}$= 2 GeV. Activate the sequence and try to find the periodic solution and plot the $\\beta$-functions. If you found $\\beta_{max}$= 460 m you succeded.\n",
    "\n",
    "\n",
    "3. Using the plot you obtained can you estimate the phase advance of the cell. Compare with the tunes obtained with the TWISS.\n",
    "\n",
    "\n",
    "4. Try with $E_{tot}$ = 0.7 GeV: what is the MAD-X error message?\n",
    "\n",
    "\n",
    "5. Try with f= 20 m: what is the MAD-x error message?\n",
    "\n",
    "**Matching the FODO cell using a parametric plot**\n",
    "\n",
    "6. Try to twiss it powering the quds to obtain a $\\Delta \\mu \\approx 90^\\circ$ in the cell using the thin lense approximation (using the figures from Tutorial 1: Part 1). What is the actual phase advance computed by MAD-X?\n",
    "\n",
    "\n",
    "7. What is the $\\beta_{mx}$? Compare with the thin lense approximation (using the figures from Tutorial 1: Part 1).\n",
    "\n",
    "\n",
    "8. Compute the maximum beam size $\\sigma$ assuming a normalized emittance of 3 mrad mm and $E_{tot}= 7 TeV$.\n",
    "\n",
    "\n",
    "9. Halve the focusing strength of the quadrupoles, wht is the effect of it on the $\\beta_{max}$ and $\\beta_{min}$ and on the $\\Delta \\mu$? Compare with the parametric plots."
   ]
  },
  {
   "cell_type": "code",
   "execution_count": 4,
   "id": "a21fa4d5",
   "metadata": {},
   "outputs": [],
   "source": [
    "from matplotlib import pyplot as plt\n",
    "import numpy as np\n",
    "import pandas as pd\n",
    "from cpymad.madx import Madx "
   ]
  },
  {
   "cell_type": "markdown",
   "id": "7ee3ed76",
   "metadata": {},
   "source": [
    "# Launching MAD-X"
   ]
  },
  {
   "cell_type": "code",
   "execution_count": 5,
   "id": "018559dc",
   "metadata": {},
   "outputs": [
    {
     "name": "stdout",
     "output_type": "stream",
     "text": [
      "\n",
      "  ++++++++++++++++++++++++++++++++++++++++++++\n",
      "  +     MAD-X 5.07.00  (64 bit, Darwin)      +\n",
      "  + Support: mad@cern.ch, http://cern.ch/mad +\n",
      "  + Release   date: 2021.05.03               +\n",
      "  + Execution date: 2021.11.26 17:37:03      +\n",
      "  ++++++++++++++++++++++++++++++++++++++++++++\n"
     ]
    }
   ],
   "source": [
    "myMad = Madx()"
   ]
  },
  {
   "cell_type": "markdown",
   "id": "8ca2cdc2",
   "metadata": {},
   "source": [
    "# Definition of parameters"
   ]
  },
  {
   "cell_type": "code",
   "execution_count": 9,
   "id": "8010d3b5",
   "metadata": {},
   "outputs": [
    {
     "name": "stdout",
     "output_type": "stream",
     "text": [
      "\n",
      "  ++++++++++++++++++++++++++++++++++++++++++++\n",
      "  +     MAD-X 5.07.00  (64 bit, Darwin)      +\n",
      "  + Support: mad@cern.ch, http://cern.ch/mad +\n",
      "  + Release   date: 2021.05.03               +\n",
      "  + Execution date: 2021.11.26 17:38:50      +\n",
      "  ++++++++++++++++++++++++++++++++++++++++++++\n"
     ]
    },
    {
     "ename": "RuntimeError",
     "evalue": "MAD-X has stopped working!",
     "output_type": "error",
     "traceback": [
      "\u001b[0;31m---------------------------------------------------------------------------\u001b[0m",
      "\u001b[0;31mRuntimeError\u001b[0m                              Traceback (most recent call last)",
      "\u001b[0;32m<ipython-input-9-15f96f7fc99f>\u001b[0m in \u001b[0;36m<module>\u001b[0;34m\u001b[0m\n\u001b[1;32m     42\u001b[0m \u001b[0;34m\u001b[0m\u001b[0m\n\u001b[1;32m     43\u001b[0m '''\n\u001b[0;32m---> 44\u001b[0;31m \u001b[0mmyMad\u001b[0m\u001b[0;34m.\u001b[0m\u001b[0minput\u001b[0m\u001b[0;34m(\u001b[0m\u001b[0mmyString\u001b[0m\u001b[0;34m)\u001b[0m\u001b[0;34m;\u001b[0m\u001b[0;34m\u001b[0m\u001b[0;34m\u001b[0m\u001b[0m\n\u001b[0m",
      "\u001b[0;32m~/opt/anaconda3/lib/python3.8/site-packages/cpymad/madx.py\u001b[0m in \u001b[0;36minput\u001b[0;34m(self, text)\u001b[0m\n\u001b[1;32m    278\u001b[0m                 \u001b[0;32mreturn\u001b[0m \u001b[0mself\u001b[0m\u001b[0;34m.\u001b[0m\u001b[0m_libmadx\u001b[0m\u001b[0;34m.\u001b[0m\u001b[0minput\u001b[0m\u001b[0;34m(\u001b[0m\u001b[0mtext\u001b[0m\u001b[0;34m)\u001b[0m\u001b[0;34m\u001b[0m\u001b[0;34m\u001b[0m\u001b[0m\n\u001b[1;32m    279\u001b[0m         \u001b[0;32mexcept\u001b[0m \u001b[0m_rpc\u001b[0m\u001b[0;34m.\u001b[0m\u001b[0mRemoteProcessCrashed\u001b[0m\u001b[0;34m:\u001b[0m\u001b[0;34m\u001b[0m\u001b[0;34m\u001b[0m\u001b[0m\n\u001b[0;32m--> 280\u001b[0;31m             \u001b[0;32mraise\u001b[0m \u001b[0mRuntimeError\u001b[0m\u001b[0;34m(\u001b[0m\u001b[0;34m\"MAD-X has stopped working!\"\u001b[0m\u001b[0;34m)\u001b[0m \u001b[0;32mfrom\u001b[0m \u001b[0;32mNone\u001b[0m\u001b[0;34m\u001b[0m\u001b[0;34m\u001b[0m\u001b[0m\n\u001b[0m\u001b[1;32m    281\u001b[0m \u001b[0;34m\u001b[0m\u001b[0m\n\u001b[1;32m    282\u001b[0m     \u001b[0m__call__\u001b[0m \u001b[0;34m=\u001b[0m \u001b[0minput\u001b[0m\u001b[0;34m\u001b[0m\u001b[0;34m\u001b[0m\u001b[0m\n",
      "\u001b[0;31mRuntimeError\u001b[0m: MAD-X has stopped working!"
     ]
    }
   ],
   "source": [
    "myMad = Madx()\n",
    "myString='''\n",
    "! *********************************************************************\n",
    "! Definition of parameters\n",
    "! *********************************************************************\n",
    "\n",
    "l_cell=100;\n",
    "quadrupoleLenght=5;\n",
    "f=200;\n",
    "myK:=1/f/quadrupoleLenght;// m^-2\n",
    "\n",
    "! *********************************************************************\n",
    "! Definition of magnets\n",
    "! ********************************************************************* \n",
    "QF: quadrupole, L=quadrupoleLenght, K1:=myK;\n",
    "QD: quadrupole, L=quadrupoleLenght, K1:=-myK;\n",
    "\n",
    "! *********************************************************************\n",
    "! Definition of sequence\n",
    "! *********************************************************************\n",
    "myCell:sequence, refer=start, L=L_CELL;\n",
    "quadrupole1: QF, at=0;\n",
    "marker1: marker, at=25;\n",
    "quadrupole2: QD, at=50;\n",
    "endsequence;\n",
    "\n",
    "! *********************************************************************\n",
    "! Definition of beam\n",
    "! *********************************************************************\n",
    "beam, particle=proton, energy=2;\n",
    "\n",
    "! *********************************************************************\n",
    "! Use of the sequence\n",
    "! *********************************************************************\n",
    "use, sequence=myCell;\n",
    "\n",
    "! *********************************************************************\n",
    "! TWISS\n",
    "! *********************************************************************\n",
    "title, 'My first twiss';\n",
    "twiss;\n",
    "\n",
    "'''\n",
    "myMad.input(myString);"
   ]
  },
  {
   "cell_type": "markdown",
   "id": "09399203",
   "metadata": {},
   "source": [
    "# Accessing the SUMM and TWISS table results"
   ]
  },
  {
   "cell_type": "code",
   "execution_count": null,
   "id": "76b13263",
   "metadata": {},
   "outputs": [],
   "source": [
    "myString='''\n",
    "value, table(SUMM,Q1);\n",
    "value, table(SUMM,betymax);\n",
    "'''\n",
    "myMad.input(myString);"
   ]
  },
  {
   "cell_type": "code",
   "execution_count": null,
   "id": "cb3cedcb",
   "metadata": {},
   "outputs": [],
   "source": [
    "myString='''\n",
    "value, table(TWISS,QUADRUPOLE2,S);\n",
    "value, table(TWISS,QUADRUPOLE2,BETX);\n",
    "'''\n",
    "myMad.input(myString);"
   ]
  },
  {
   "cell_type": "code",
   "execution_count": null,
   "id": "a987304b",
   "metadata": {},
   "outputs": [],
   "source": [
    "myString='''\n",
    "value, table(TWISS,mycell$end:1,Re11);\n",
    "value, table(TWISS,mycell$end:1,Re12);\n",
    "value, table(TWISS,mycell$end:1,Re21);\n",
    "value, table(TWISS,mycell$end:1,Re22);\n",
    "'''\n",
    "myMad.input(myString);"
   ]
  },
  {
   "cell_type": "code",
   "execution_count": null,
   "id": "875e14bd",
   "metadata": {},
   "outputs": [],
   "source": [
    "112.125/np.sin(0.25)"
   ]
  },
  {
   "cell_type": "markdown",
   "id": "03073304",
   "metadata": {},
   "source": [
    "# Accessing table with pandas\n",
    "For advance users...\n",
    "\n",
    "Pandas dataframe are very convenient, have a look in https://pandas.pydata.org/Pandas_Cheat_Sheet.pdf."
   ]
  },
  {
   "cell_type": "code",
   "execution_count": null,
   "id": "663017ea",
   "metadata": {},
   "outputs": [],
   "source": [
    "myDF=myMad.table.twiss.dframe()\n",
    "myDF[['name','s','betx','bety']]"
   ]
  },
  {
   "cell_type": "code",
   "execution_count": null,
   "id": "e5fa8d96",
   "metadata": {},
   "outputs": [],
   "source": [
    "# Plot\n",
    "plt.plot(myDF['s'],myDF['betx'],'ob-')\n",
    "plt.plot(myDF['s'],myDF['bety'],'or-')\n",
    "plt.legend()\n",
    "plt.grid()\n",
    "plt.xlabel('s [m]')\n",
    "plt.ylabel('[m]')\n",
    "plt.title('My first FODO cell')"
   ]
  },
  {
   "cell_type": "code",
   "execution_count": null,
   "id": "c51b7530",
   "metadata": {},
   "outputs": [],
   "source": [
    "print(list(myMad.elements))"
   ]
  },
  {
   "cell_type": "code",
   "execution_count": null,
   "id": "427e5bf1",
   "metadata": {},
   "outputs": [],
   "source": [
    "print(list(myMad.sequence))"
   ]
  },
  {
   "cell_type": "code",
   "execution_count": null,
   "id": "6e2a0840",
   "metadata": {},
   "outputs": [],
   "source": [
    "myDF"
   ]
  },
  {
   "cell_type": "code",
   "execution_count": null,
   "id": "439fe67a",
   "metadata": {},
   "outputs": [],
   "source": [
    "myDF[['name','keyword','s','betx','bety']]"
   ]
  },
  {
   "cell_type": "markdown",
   "id": "86b65bb2",
   "metadata": {},
   "source": [
    "# Tune from the plot"
   ]
  },
  {
   "cell_type": "markdown",
   "id": "139ab614",
   "metadata": {},
   "source": [
    "For the phase advance one can consider the definition\n",
    "\n",
    "\\begin{equation}\n",
    "\\mu=\\int\\frac{1}{\\beta(s)}ds.\n",
    "\\end{equation}\n",
    "\n",
    "Remember that the unit of phase in MAD-X is [2$\\pi$]."
   ]
  },
  {
   "cell_type": "code",
   "execution_count": null,
   "id": "f839a0b5",
   "metadata": {},
   "outputs": [],
   "source": [
    "# a very basic approximation\n",
    "1/400.*100/2/np.pi"
   ]
  },
  {
   "cell_type": "code",
   "execution_count": null,
   "id": "397d7f8a",
   "metadata": {},
   "outputs": [],
   "source": [
    "# computing the integral\n",
    "np.trapz(1/myDF['betx'],myDF['s'])/2/np.pi"
   ]
  },
  {
   "cell_type": "code",
   "execution_count": null,
   "id": "cbf7bb1e",
   "metadata": {},
   "outputs": [],
   "source": [
    "# correct values\n",
    "myDF.iloc[-1]['mux']"
   ]
  },
  {
   "cell_type": "markdown",
   "id": "cabfdd11",
   "metadata": {},
   "source": [
    "# Varying the energy"
   ]
  },
  {
   "cell_type": "code",
   "execution_count": null,
   "id": "22546c0e",
   "metadata": {},
   "outputs": [],
   "source": [
    "# with this simple wrapper in case of error the code enter in an infinite loop you have to stop manually.\n",
    "myString='''\n",
    "beam, particle=proton, energy=0.7;\n",
    "title, 'My third twiss';\n",
    "twiss, file=./secondpart/thirdTwiss.txt;\n",
    "'''\n",
    "myMad.input(myString);"
   ]
  },
  {
   "cell_type": "markdown",
   "id": "55ee2aae",
   "metadata": {},
   "source": [
    "There is an error due to the fact that the total energy.\n"
   ]
  },
  {
   "cell_type": "markdown",
   "id": "b1ddc21b",
   "metadata": {},
   "source": [
    "# With f=20 m"
   ]
  },
  {
   "cell_type": "code",
   "execution_count": null,
   "id": "4878fdc0",
   "metadata": {},
   "outputs": [],
   "source": [
    "myMad = Madx()"
   ]
  },
  {
   "cell_type": "code",
   "execution_count": null,
   "id": "80e3ae52",
   "metadata": {},
   "outputs": [],
   "source": [
    "myString='''\n",
    "! *********************************************************************\n",
    "! Tutorial 1, second part\n",
    "! *********************************************************************\n",
    "\n",
    "! *********************************************************************\n",
    "! Definition of parameters\n",
    "! *********************************************************************\n",
    "\n",
    "l_cell=100;\n",
    "quadrupoleLenght=5;\n",
    "f=20;\n",
    "myK:=1/f/quadrupoleLenght;// m^-2\n",
    "\n",
    "! *********************************************************************\n",
    "! Definition of magnet\n",
    "! ********************************************************************* \n",
    "QF: quadrupole, L=quadrupoleLenght, K1:=myK;\n",
    "QD: quadrupole, L=quadrupoleLenght, K1:=-myK;\n",
    "\n",
    "\n",
    "! *********************************************************************\n",
    "! Definition of sequence\n",
    "! *********************************************************************\n",
    "myCell:sequence, refer=entry, L=L_CELL;\n",
    "quadrupole1: QF, at=0;\n",
    "marker1: marker, at=25;\n",
    "quadrupole2: QD, at=50;\n",
    "endsequence;\n",
    "\n",
    "! *********************************************************************\n",
    "! Definition of beam\n",
    "! *********************************************************************\n",
    "beam, particle=proton, energy=2;\n",
    "\n",
    "! *********************************************************************\n",
    "! Use of the sequence\n",
    "! *********************************************************************\n",
    "use, sequence=myCell;\n",
    "\n",
    "! *********************************************************************\n",
    "! TWISS\n",
    "! *********************************************************************\n",
    "select, flag=twiss, clear;\n",
    "select, flag=twiss, column=name, keyword, s, betx, alfx, mux, bety, alfy, muy, x, px, y, py, dx, dy, dx, dpx, dy, dpy;\n",
    "\n",
    "title, 'My fourth twiss';\n",
    "twiss, file=./secondpart/fourthTwiss.txt;\n",
    "'''\n",
    "myMad.input(myString);"
   ]
  },
  {
   "cell_type": "markdown",
   "id": "be766839",
   "metadata": {},
   "source": [
    "INTERPRETATION: The cell is unstable due to the fact that the focal length is too short. Please note the value of the cosmux and cosmuy. "
   ]
  },
  {
   "cell_type": "markdown",
   "id": "64998c77",
   "metadata": {},
   "source": [
    "# Adding markers\n",
    "\n",
    "This is an example to add markers in the sequence using a macros.\n"
   ]
  },
  {
   "cell_type": "code",
   "execution_count": null,
   "id": "3b469d16",
   "metadata": {},
   "outputs": [],
   "source": [
    "myString='''\n",
    "! *********************************************************************\n",
    "! Tutorial 1, second part\n",
    "! *********************************************************************\n",
    "\n",
    "! *********************************************************************\n",
    "! Definition of parameters\n",
    "! *********************************************************************\n",
    "\n",
    "option, echo=false, info=false, warn=false;\n",
    "l_cell=100;\n",
    "quadrupoleLenght=5;\n",
    "f=200;\n",
    "myK:=1/f/quadrupoleLenght;// m^-2\n",
    "\n",
    "! *********************************************************************\n",
    "! Definition of magnet\n",
    "! ********************************************************************* \n",
    "QF: quadrupole, L=quadrupoleLenght, K1:=myK;\n",
    "QD: quadrupole, L=quadrupoleLenght, K1:=-myK;\n",
    "\n",
    "\n",
    "installMarkers(nn): macro ={\n",
    "markernn: marker, at=nn;\n",
    "!value,f;\n",
    "};\n",
    "N=6;\n",
    "\n",
    "\n",
    "! *********************************************************************\n",
    "! Definition of sequence\n",
    "! *********************************************************************\n",
    "myCell:sequence, REFER=centre, L=L_CELL;\n",
    "quadrupole1: QF, at=2.5;\n",
    "while (N<50) {\n",
    "exec, installMarkers($N);\n",
    "N=N+1;\n",
    "}\n",
    "quadrupole2: QD, at=52.5;\n",
    "N=56;\n",
    "while (N<100) {\n",
    "exec, installMarkers($N);\n",
    "N=N+1;\n",
    "}\n",
    "endsequence;\n",
    "\n",
    "! *********************************************************************\n",
    "! Definition of beam\n",
    "! *********************************************************************\n",
    "beam, particle=proton, energy=2;\n",
    "\n",
    "! *********************************************************************\n",
    "! Use of the sequence\n",
    "! *********************************************************************\n",
    "use, sequence=myCell;\n",
    "\n",
    "! *********************************************************************\n",
    "! TWISS\n",
    "! *********************************************************************\n",
    "select, flag=twiss, clear;\n",
    "select, flag=twiss, column=name, keyword, L, s, betx, alfx, mux, bety, alfy, muy, x, px, y, py, dx, dy, dx, dpx, dy, dpy;\n",
    "\n",
    "title, 'My fourth twiss';\n",
    "twiss, file=./secondpart/fifthTwiss.txt;\n",
    "'''\n",
    "myMad.input(myString);"
   ]
  },
  {
   "cell_type": "code",
   "execution_count": null,
   "id": "bc355dc8",
   "metadata": {},
   "outputs": [],
   "source": [
    "myDF=myMad.table.twiss.dframe()\n",
    "myDF.head()"
   ]
  },
  {
   "cell_type": "code",
   "execution_count": null,
   "id": "4e762dc8",
   "metadata": {},
   "outputs": [],
   "source": [
    "plt.plot(myDF['s'],myDF['betx'],'.-b',label='$\\\\beta_x$')\n",
    "plt.plot(myDF['s'],myDF['bety'],'.-r',label='$\\\\beta_y$')\n",
    "plt.xlabel('s [m]')\n",
    "plt.ylabel('[m]')\n",
    "plt.legend(loc='best')\n",
    "plt.grid()"
   ]
  },
  {
   "cell_type": "code",
   "execution_count": null,
   "id": "4f21cbb8",
   "metadata": {},
   "outputs": [],
   "source": [
    "np.trapz(1/myDF['betx'],myDF['s'])/2/np.pi"
   ]
  },
  {
   "cell_type": "markdown",
   "id": "d2a8ac4c",
   "metadata": {},
   "source": [
    "# Thin lense approximation"
   ]
  },
  {
   "cell_type": "code",
   "execution_count": null,
   "id": "b2c94895",
   "metadata": {},
   "outputs": [],
   "source": [
    "myString='''\n",
    "select, flag=makethin, class=quadrupole, slice=5; \n",
    "makethin,sequence=myCell;\n",
    "use,sequence=myCell;      \n",
    "twiss,sequence=myCell,file=./secondpart/sixthTwiss.txt;\n",
    "'''\n",
    "myMad.input(myString);"
   ]
  },
  {
   "cell_type": "code",
   "execution_count": null,
   "id": "2cbfd395",
   "metadata": {},
   "outputs": [],
   "source": [
    "myDF=myMad.table.twiss.dframe()\n",
    "myDF"
   ]
  },
  {
   "cell_type": "code",
   "execution_count": null,
   "id": "ed2b6cd9",
   "metadata": {},
   "outputs": [],
   "source": [
    "plt.plot(myDF['s'],myDF['betx'],'.-b',label='$\\\\beta_x$')\n",
    "plt.plot(myDF['s'],myDF['bety'],'.-r',label='$\\\\beta_y$')\n",
    "plt.xlabel('s [m]')\n",
    "plt.ylabel('[m]')\n",
    "plt.legend(loc='best')\n",
    "plt.grid()"
   ]
  },
  {
   "cell_type": "code",
   "execution_count": null,
   "id": "91458e0d",
   "metadata": {},
   "outputs": [],
   "source": [
    "np.trapz(1/myDF['betx'],myDF['s'])/2/np.pi"
   ]
  },
  {
   "cell_type": "code",
   "execution_count": null,
   "id": "7c0a595d",
   "metadata": {},
   "outputs": [],
   "source": []
  },
  {
   "cell_type": "code",
   "execution_count": null,
   "id": "daa7ba9f",
   "metadata": {},
   "outputs": [],
   "source": []
  },
  {
   "cell_type": "code",
   "execution_count": null,
   "id": "8f0be0cc",
   "metadata": {},
   "outputs": [],
   "source": []
  }
 ],
 "metadata": {
  "kernelspec": {
   "display_name": "Python 3",
   "language": "python",
   "name": "python3"
  },
  "language_info": {
   "codemirror_mode": {
    "name": "ipython",
    "version": 3
   },
   "file_extension": ".py",
   "mimetype": "text/x-python",
   "name": "python",
   "nbconvert_exporter": "python",
   "pygments_lexer": "ipython3",
   "version": "3.8.8"
  }
 },
 "nbformat": 4,
 "nbformat_minor": 5
}
