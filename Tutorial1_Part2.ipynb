{
 "cells": [
  {
   "cell_type": "markdown",
   "id": "a3243818",
   "metadata": {},
   "source": [
    "# Tutorial 1: Part 2\n",
    "\n",
    "Objectives:\n",
    "- Learn how to define a simple lattice and compute the TWISS functions using MAD-X.\n",
    "- Thick vs thin lense approximation TWISS comparison for a lattice with only quadrupoles.\n",
    "- Tune and $\\beta$-function dependence on K1.\n",
    "\n",
    "**My first accelerator: a FODO cell**\n",
    "\n",
    "1. Make a simple lattice cell with $L_{cell}$= 100 m made of focusing and defocusing qudrupoles (so called FODO cell). Each quadrupole is 5 m long ($L_{quad}$). Put the start of the first qudrupole at the start of the sequence. Each quadrupole has a focal length f=200 m (k1 x $L_{quad}$ = 1/f in thin lense approximation).\n",
    "\n",
    "\n",
    "2. Define a proton beam at $E_{tot}$= 2 GeV. Activate the sequence and try to find the periodic solution and plot the $\\beta$-functions. If you found $\\beta_{max}$= 460 m you succeded.\n",
    "\n",
    "\n",
    "3. Using the plot you obtained can you estimate the phase advance of the cell. Compare with the tunes obtained with the TWISS.\n",
    "\n",
    "\n",
    "4. Try with $E_{tot}$ = 0.7 GeV: what is the MAD-X error message?\n",
    "\n",
    "\n",
    "5. Try with f= 20 m: what is the MAD-x error message?\n",
    "\n",
    "**Matching the FODO cell using a parametric plot**\n",
    "\n",
    "6. Try to twiss it powering the quds to obtain a $\\Delta \\mu \\approx 90^\\circ$ in the cell using the thin lense approximation (using the figures from Tutorial 1: Part 1). What is the actual phase advance computed by MAD-X?\n",
    "\n",
    "\n",
    "7. What is the $\\beta_{max}$? Compare with the thin lense approximation (using the figures from Tutorial 1: Part 1).\n",
    "\n",
    "\n",
    "8. Compute the maximum beam size $\\sigma$ assuming a normalized emittance of 3 mrad mm and $E_{tot}= 7 TeV$.\n",
    "\n",
    "\n",
    "9. Halve the focusing strength of the quadrupoles, what is the effect of it on the $\\beta_{max}$ and $\\beta_{min}$ and on the $\\Delta \\mu$? Compare with the parametric plots."
   ]
  },
  {
   "cell_type": "code",
   "execution_count": 1,
   "id": "a21fa4d5",
   "metadata": {},
   "outputs": [],
   "source": [
    "#Import the needed libraries\n",
    "from matplotlib import pyplot as plt\n",
    "import numpy as np\n",
    "import pandas as pd\n",
    "from cpymad.madx import Madx "
   ]
  },
  {
   "cell_type": "markdown",
   "id": "7ee3ed76",
   "metadata": {},
   "source": [
    "# Launching MAD-X"
   ]
  },
  {
   "cell_type": "code",
   "execution_count": 2,
   "id": "018559dc",
   "metadata": {},
   "outputs": [],
   "source": [
    "#If you don't see  the MAD-X output printed in the jupyter notebook try myMad = Madx().\n",
    "myMad = Madx(stdout=True)"
   ]
  },
  {
   "cell_type": "markdown",
   "id": "8ca2cdc2",
   "metadata": {},
   "source": [
    "1. Make a simple lattice cell with 𝐿𝑐𝑒𝑙𝑙= 100 m made of focusing and defocusing qudrupoles (so called FODO cell). Each quad is 5 m long (𝐿𝑞𝑢𝑎𝑑). Put the start of the first qudrupole at the start of the sequence. Each quadrupole has a focal length f=200 m (k1 x 𝐿𝑞𝑢𝑎𝑑 = 1/f in thin lense approximation).\n",
    "\n",
    "\n",
    "2. Define a proton beam at $E_{tot}$= 2 GeV. Activate the sequence and try to find the periodic solution and plot the $\\beta$-functions. If you found $\\beta_{max} \\approx$ 460 m you succeded."
   ]
  },
  {
   "cell_type": "code",
   "execution_count": 99,
   "id": "9a6dbae4",
   "metadata": {},
   "outputs": [],
   "source": [
    "# In this template you need to substitute the ?? marks by the corresponding numbers.\n",
    "myString='''\n",
    "! *********************************************************************\n",
    "! Definition of parameters\n",
    "! *********************************************************************\n",
    "\n",
    "l_cell=??;\n",
    "quadrupoleLenght=??;\n",
    "myK:=??;// m^-2\n",
    "\n",
    "! *********************************************************************\n",
    "! Definition of magnets\n",
    "! ********************************************************************* \n",
    "QF: quadrupole, L=??, K1=??;\n",
    "QD: quadrupole, L=??, K1=??;\n",
    "\n",
    "! *********************************************************************\n",
    "! Definition of sequence\n",
    "! *********************************************************************\n",
    "\n",
    "mycell:sequence, refer=entry, L=??;\n",
    "??: ??, at=??;\n",
    "??: ??, at=??;\n",
    "endsequence;\n",
    "\n",
    "! *********************************************************************\n",
    "! Definition of beam\n",
    "! *********************************************************************\n",
    "beam, particle=??, energy=??;\n",
    "\n",
    "! *********************************************************************\n",
    "! Use of the sequence\n",
    "! *********************************************************************\n",
    "use, sequence=??;\n",
    "\n",
    "! *********************************************************************\n",
    "! TWISS\n",
    "! *********************************************************************\n",
    "\n",
    "twiss, file=MyfirstFODO.madx;\n",
    "\n",
    "! In case you want to generate the MAD-X plot\n",
    "plot, haxis=s, vaxis=betx,bety,dx,colour=100, title=\"test\",file=MyfirstFODO;\n",
    "\n",
    "'''\n",
    "myMad.input(myString);"
   ]
  },
  {
   "cell_type": "code",
   "execution_count": 100,
   "id": "76b13263",
   "metadata": {},
   "outputs": [],
   "source": [
    "#############################################################\n",
    "# Extract information from SUMM table using MADX commands   #\n",
    "#############################################################\n",
    "myString='''\n",
    "value, table(SUMM,Q1);\n",
    "value, table(SUMM,betymax);\n",
    "'''\n",
    "myMad.input(myString);"
   ]
  },
  {
   "cell_type": "markdown",
   "id": "6a5d9ed5",
   "metadata": {},
   "source": [
    "And for the vertical plane?"
   ]
  },
  {
   "cell_type": "code",
   "execution_count": null,
   "id": "c8737fcf",
   "metadata": {},
   "outputs": [],
   "source": []
  },
  {
   "cell_type": "code",
   "execution_count": null,
   "id": "b7ff378c",
   "metadata": {},
   "outputs": [],
   "source": [
    "#############################################################\n",
    "# Extract information from SUMM table using python commands #\n",
    "#############################################################\n",
    "# SUMM table\n",
    "myDF=myMad.table.summ.dframe()\n",
    "myDF\n",
    "myDF[\"q1\"]"
   ]
  },
  {
   "cell_type": "code",
   "execution_count": null,
   "id": "904a1756",
   "metadata": {},
   "outputs": [],
   "source": [
    "##############################################################\n",
    "# Extract information from TWISS table using python commands #\n",
    "##############################################################\n",
    "# TWISS table\n",
    "myDF=myMad.table.twiss.dframe()\n",
    "myDF[['name','s','betx','bety','alfx','alfy','mux','muy']]"
   ]
  },
  {
   "cell_type": "code",
   "execution_count": null,
   "id": "66288bc7",
   "metadata": {},
   "outputs": [],
   "source": [
    "############################\n",
    "# Plot with python example #\n",
    "############################\n",
    "%matplotlib notebook\n",
    "plt.plot(myDF['s'],myDF['betx'],'.-b',label='$\\\\beta_x$')\n",
    "plt.plot(myDF['s'],myDF['bety'],'.-r',label='$\\\\beta_y$')\n",
    "plt.legend()\n",
    "plt.grid()\n",
    "plt.xlabel('s [m]')\n",
    "plt.ylabel('[m]')\n",
    "plt.title('My first FODO cell')"
   ]
  },
  {
   "cell_type": "markdown",
   "id": "6e584ead",
   "metadata": {},
   "source": [
    "If you found $\\beta_{max}$= 463.6 m you succeded!"
   ]
  },
  {
   "cell_type": "markdown",
   "id": "86b65bb2",
   "metadata": {},
   "source": [
    "# Tune from the plot\n",
    "3. Using the plot you obtained can you estimate the phase advance of the cell. Compare with the tunes obtained with the TWISS."
   ]
  },
  {
   "cell_type": "markdown",
   "id": "139ab614",
   "metadata": {},
   "source": [
    "Remember that the unit of phase in MAD-X is [2$\\pi$]."
   ]
  },
  {
   "cell_type": "code",
   "execution_count": 12,
   "id": "f839a0b5",
   "metadata": {},
   "outputs": [],
   "source": [
    "# Phase advance from the MAD-X TWISS"
   ]
  },
  {
   "cell_type": "code",
   "execution_count": null,
   "id": "f1db641c",
   "metadata": {},
   "outputs": [],
   "source": []
  },
  {
   "cell_type": "markdown",
   "id": "cabfdd11",
   "metadata": {},
   "source": [
    "# Varying the energy\n",
    "4. Try with $E_{tot}$ = 0.7 GeV: what is the MAD-X error message? "
   ]
  },
  {
   "cell_type": "code",
   "execution_count": null,
   "id": "13ffca31",
   "metadata": {},
   "outputs": [],
   "source": [
    "# With this simple wrapper in case of error the code enter in an infinite loop you have to stop manually.\n",
    "myString='''\n",
    "\n",
    "beam, particle=??, energy=??;\n",
    "\n",
    "twiss;\n",
    "\n",
    "'''\n",
    "myMad.input(myString);"
   ]
  },
  {
   "cell_type": "markdown",
   "id": "55ee2aae",
   "metadata": {},
   "source": []
  },
  {
   "cell_type": "markdown",
   "id": "b1ddc21b",
   "metadata": {},
   "source": [
    "# With f=20 m\n",
    "5. Try with f= 20 m: what is the MAD-x error message?"
   ]
  },
  {
   "cell_type": "code",
   "execution_count": 108,
   "id": "4878fdc0",
   "metadata": {},
   "outputs": [],
   "source": [
    "#As MAD-X has stopped you need to re-start it!\n",
    "myMad = Madx(stdout=True)"
   ]
  },
  {
   "cell_type": "code",
   "execution_count": 109,
   "id": "80e3ae52",
   "metadata": {},
   "outputs": [],
   "source": [
    "# You can copy and paste your previous string with the machine description you completed.\n",
    "myString='''\n",
    "! *********************************************************************\n",
    "! Definition of parameters\n",
    "! *********************************************************************\n",
    "\n",
    "l_cell=??;\n",
    "quadrupoleLenght=??;\n",
    "myK:=??;// m^-2\n",
    "\n",
    "! *********************************************************************\n",
    "! Definition of magnets\n",
    "! ********************************************************************* \n",
    "QF: quadrupole, L=??, K1=??;\n",
    "QD: quadrupole, L=??, K1=??;\n",
    "\n",
    "! *********************************************************************\n",
    "! Definition of sequence\n",
    "! *********************************************************************\n",
    "\n",
    "mycell:sequence, refer=entry, L=??;\n",
    "??: ??, at=??;\n",
    "??: ??, at=??;\n",
    "endsequence;\n",
    "\n",
    "! *********************************************************************\n",
    "! Definition of beam\n",
    "! *********************************************************************\n",
    "beam, particle=??, energy=??;\n",
    "\n",
    "! *********************************************************************\n",
    "! Use of the sequence\n",
    "! *********************************************************************\n",
    "use, sequence=??;\n",
    "\n",
    "! *********************************************************************\n",
    "! TWISS\n",
    "! *********************************************************************\n",
    "\n",
    "twiss, file=MysecondFODO.madx;\n",
    "\n",
    "! In case you want to generate the MAD-X plot\n",
    "plot, haxis=s, vaxis=betx,bety,dx,colour=100, title=\"test\",file=MysecondFODO;\n",
    "\n",
    "'''\n",
    "myMad.input(myString);"
   ]
  },
  {
   "cell_type": "markdown",
   "id": "be766839",
   "metadata": {},
   "source": []
  },
  {
   "cell_type": "markdown",
   "id": "1945d34f",
   "metadata": {},
   "source": [
    "# **Matching the FODO cell using a parametric plot**\n",
    "6. Try to twiss it powering the quadrupoles to obtain a $\\Delta \\mu \\approx 90^\\circ$ in the cell using the thin lense approximation (using the figures from Tutorial 1: Part 1). What is the actual phase advance computed by MAD-X?"
   ]
  },
  {
   "cell_type": "code",
   "execution_count": 110,
   "id": "d039e82e",
   "metadata": {},
   "outputs": [],
   "source": [
    "myMad = Madx(stdout=True)"
   ]
  },
  {
   "cell_type": "code",
   "execution_count": 3,
   "id": "280cdbf1",
   "metadata": {},
   "outputs": [],
   "source": [
    "# From the plot from Tutoria 1 - part1, for 90 degrees phase advance"
   ]
  },
  {
   "cell_type": "code",
   "execution_count": 112,
   "id": "c15902a2",
   "metadata": {},
   "outputs": [],
   "source": [
    "myString='''\n",
    "! *********************************************************************\n",
    "! Definition of parameters\n",
    "! *********************************************************************\n",
    "\n",
    "l_cell=??;\n",
    "quadrupoleLenght=??;\n",
    "myK:=??;// m^-2\n",
    "\n",
    "! *********************************************************************\n",
    "! Definition of magnets\n",
    "! ********************************************************************* \n",
    "QF: quadrupole, L=??, K1=??;\n",
    "QD: quadrupole, L=??, K1=??;\n",
    "\n",
    "! *********************************************************************\n",
    "! Definition of sequence\n",
    "! *********************************************************************\n",
    "\n",
    "mycell:sequence, refer=entry, L=??;\n",
    "??: ??, at=??;\n",
    "??: ??, at=??;\n",
    "endsequence;\n",
    "\n",
    "! *********************************************************************\n",
    "! Definition of beam\n",
    "! *********************************************************************\n",
    "beam, particle=??, energy=??;\n",
    "\n",
    "! *********************************************************************\n",
    "! Use of the sequence\n",
    "! *********************************************************************\n",
    "use, sequence=??;\n",
    "\n",
    "! *********************************************************************\n",
    "! TWISS\n",
    "! *********************************************************************\n",
    "\n",
    "twiss, file=MyfirstFODO.madx;\n",
    "\n",
    "! In case you want to generate the MAD-X plot\n",
    "plot, haxis=s, vaxis=betx,bety,dx,colour=100, title=\"test\",file=MyfirstFODO;\n",
    "\n",
    "'''\n",
    "myMad.input(myString);"
   ]
  },
  {
   "cell_type": "code",
   "execution_count": 114,
   "id": "ac2fdfe7",
   "metadata": {},
   "outputs": [],
   "source": [
    "##############################################################\n",
    "# Extract information from TWISS table using python commands #\n",
    "##############################################################\n",
    "\n",
    "myDF2=myMad.table.twiss.dframe()\n",
    "myDF2[['name','s','betx','bety','alfx','alfy','mux','muy']]"
   ]
  },
  {
   "cell_type": "code",
   "execution_count": 7,
   "id": "1b29ac53",
   "metadata": {},
   "outputs": [],
   "source": [
    "#Phase advance computed by MADX in rad\n"
   ]
  },
  {
   "cell_type": "code",
   "execution_count": 8,
   "id": "2492dcd9",
   "metadata": {},
   "outputs": [],
   "source": [
    "#Phase advance computed by MADX in degrees\n"
   ]
  },
  {
   "cell_type": "markdown",
   "id": "c586bab9",
   "metadata": {},
   "source": [
    "7. What is the $\\beta_{max}$? Compare with the thin lense approximation (using the figures from Tutorial 1: Part 1)."
   ]
  },
  {
   "cell_type": "code",
   "execution_count": 4,
   "id": "1a71a509",
   "metadata": {},
   "outputs": [],
   "source": [
    "# From the MAD-X calculation\n"
   ]
  },
  {
   "cell_type": "code",
   "execution_count": null,
   "id": "e8d60d39",
   "metadata": {},
   "outputs": [],
   "source": []
  },
  {
   "cell_type": "code",
   "execution_count": 5,
   "id": "061d9511",
   "metadata": {},
   "outputs": [],
   "source": [
    "#From the parametric plot Figure 2 \n"
   ]
  },
  {
   "cell_type": "code",
   "execution_count": null,
   "id": "3546809a",
   "metadata": {},
   "outputs": [],
   "source": []
  },
  {
   "cell_type": "markdown",
   "id": "e34f31df",
   "metadata": {},
   "source": [
    "8. Compute the maximum beam size $\\sigma$ assuming a normalized emittance of 3 mrad mm and $E_{tot}= 7 TeV$.\n"
   ]
  },
  {
   "cell_type": "code",
   "execution_count": null,
   "id": "b8a94b51",
   "metadata": {},
   "outputs": [],
   "source": []
  },
  {
   "cell_type": "markdown",
   "id": "e5680128",
   "metadata": {},
   "source": [
    "9. Halve the focusing strength of the quadrupoles, what is the effect of it on the $\\beta_{max}$ and $\\beta_{min}$ and on the $\\Delta \\mu$? Compare with the parametric plots."
   ]
  },
  {
   "cell_type": "code",
   "execution_count": 122,
   "id": "2f803b17",
   "metadata": {},
   "outputs": [],
   "source": [
    "myString='''\n",
    "\n",
    "myK:=??;// m^-2\n",
    "twiss, file=thirdTwiss.txt;\n",
    "\n",
    "'''\n",
    "myMad.input(myString);"
   ]
  },
  {
   "cell_type": "code",
   "execution_count": 123,
   "id": "dbc94310",
   "metadata": {},
   "outputs": [],
   "source": [
    "#####################################################################\n",
    "# Extract information from SUMM table using python or MADX commands #\n",
    "#####################################################################"
   ]
  },
  {
   "cell_type": "code",
   "execution_count": null,
   "id": "3722f28e",
   "metadata": {},
   "outputs": [],
   "source": [
    "myDF3=myMad.table.twiss.dframe()\n",
    "myDF3['betx']"
   ]
  },
  {
   "cell_type": "code",
   "execution_count": 9,
   "id": "cf7a58f4",
   "metadata": {},
   "outputs": [],
   "source": [
    "# bmax from parametric plots\n"
   ]
  },
  {
   "cell_type": "code",
   "execution_count": null,
   "id": "544ce95b",
   "metadata": {},
   "outputs": [],
   "source": []
  },
  {
   "cell_type": "code",
   "execution_count": 13,
   "id": "964601ab",
   "metadata": {},
   "outputs": [],
   "source": [
    "# Value from MADX\n"
   ]
  },
  {
   "cell_type": "code",
   "execution_count": null,
   "id": "28510bc2",
   "metadata": {},
   "outputs": [],
   "source": []
  }
 ],
 "metadata": {
  "kernelspec": {
   "display_name": "Python 3",
   "language": "python",
   "name": "python3"
  },
  "language_info": {
   "codemirror_mode": {
    "name": "ipython",
    "version": 3
   },
   "file_extension": ".py",
   "mimetype": "text/x-python",
   "name": "python",
   "nbconvert_exporter": "python",
   "pygments_lexer": "ipython3",
   "version": "3.8.8"
  }
 },
 "nbformat": 4,
 "nbformat_minor": 5
}
